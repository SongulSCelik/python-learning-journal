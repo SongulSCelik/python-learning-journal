{
 "cells": [
  {
   "cell_type": "code",
   "execution_count": 5,
   "id": "7dd3952d",
   "metadata": {},
   "outputs": [],
   "source": [
    "import pandas as pd"
   ]
  },
  {
   "cell_type": "code",
   "execution_count": 6,
   "id": "60d7dca8",
   "metadata": {},
   "outputs": [],
   "source": [
    "import numpy as np"
   ]
  },
  {
   "cell_type": "code",
   "execution_count": 7,
   "id": "47396aea",
   "metadata": {},
   "outputs": [],
   "source": [
    "#A Kilometer to Mile Conversion Tool."
   ]
  },
  {
   "cell_type": "code",
   "execution_count": 1,
   "id": "f036d57d",
   "metadata": {},
   "outputs": [
    {
     "data": {
      "text/plain": [
       "'100.0 km is 62.14 miles'"
      ]
     },
     "execution_count": 1,
     "metadata": {},
     "output_type": "execute_result"
    }
   ],
   "source": [
    "def converterKmtoMiles(km):\n",
    "    km=float(km)\n",
    "    miles= km*0.621371\n",
    "    return (f'{km} km is {miles:.2f} miles')\n",
    "\n",
    "#example:\n",
    "\n",
    "converterKmtoMiles(100)"
   ]
  },
  {
   "cell_type": "code",
   "execution_count": null,
   "id": "9b9815a7",
   "metadata": {},
   "outputs": [],
   "source": [
    "#A Celsius to Fahrenheit Conversion Tool"
   ]
  },
  {
   "cell_type": "code",
   "execution_count": 2,
   "id": "efa57db6",
   "metadata": {},
   "outputs": [
    {
     "data": {
      "text/plain": [
       "86.0"
      ]
     },
     "execution_count": 2,
     "metadata": {},
     "output_type": "execute_result"
    }
   ],
   "source": [
    "def celciusToFahrenheit(celcius):\n",
    "    celcius=float(celcius)\n",
    "    return (celcius*(9/5)+32)\n",
    "\n",
    "#example\n",
    "celciusToFahrenheit(30)"
   ]
  },
  {
   "cell_type": "code",
   "execution_count": 3,
   "id": "cc1e07c4",
   "metadata": {},
   "outputs": [],
   "source": [
    "#A Binary to Decimal Conversion Tool."
   ]
  },
  {
   "cell_type": "code",
   "execution_count": 4,
   "id": "5fe9d52e",
   "metadata": {},
   "outputs": [
    {
     "name": "stdout",
     "output_type": "stream",
     "text": [
      "The decimal value of binary 101101000 is 360.\n"
     ]
    }
   ],
   "source": [
    "binary = '101101000'\n",
    "decimal = (1 * 2**8) + (0 * 2**7) + (1 * 2**6) + (1 * 2**5) + (0 * 2**4) + (1 * 2**3) + (0 * 2**2) + (0 * 2**1) + (0 * 2**0)\n",
    "\n",
    "print(f\"The decimal value of binary {binary} is {decimal}.\")"
   ]
  },
  {
   "cell_type": "code",
   "execution_count": 5,
   "id": "38396a86",
   "metadata": {},
   "outputs": [
    {
     "name": "stdout",
     "output_type": "stream",
     "text": [
      "Hello! How are you?\n"
     ]
    }
   ],
   "source": []
  },
  {
   "cell_type": "code",
   "execution_count": 15,
   "id": "2d0c5592",
   "metadata": {},
   "outputs": [
    {
     "name": "stdout",
     "output_type": "stream",
     "text": [
      "Hello songul celik!. How are you?\n"
     ]
    }
   ],
   "source": []
  },
  {
   "cell_type": "code",
   "execution_count": null,
   "id": "a2868a28",
   "metadata": {},
   "outputs": [],
   "source": [
    "def greet(*args):\n",
    "    "
   ]
  },
  {
   "cell_type": "code",
   "execution_count": null,
   "id": "6a9e1a09",
   "metadata": {},
   "outputs": [],
   "source": []
  }
 ],
 "metadata": {
  "kernelspec": {
   "display_name": "Python 3 (ipykernel)",
   "language": "python",
   "name": "python3"
  },
  "language_info": {
   "codemirror_mode": {
    "name": "ipython",
    "version": 3
   },
   "file_extension": ".py",
   "mimetype": "text/x-python",
   "name": "python",
   "nbconvert_exporter": "python",
   "pygments_lexer": "ipython3",
   "version": "3.9.12"
  }
 },
 "nbformat": 4,
 "nbformat_minor": 5
}
